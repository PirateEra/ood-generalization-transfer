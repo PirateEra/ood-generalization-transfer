{
 "cells": [
  {
   "cell_type": "code",
   "execution_count": 1,
   "id": "4b40320e",
   "metadata": {},
   "outputs": [
    {
     "name": "stderr",
     "output_type": "stream",
     "text": [
      "/home/david/anaconda3/envs/ACTS/lib/python3.13/site-packages/tqdm/auto.py:21: TqdmWarning: IProgress not found. Please update jupyter and ipywidgets. See https://ipywidgets.readthedocs.io/en/stable/user_install.html\n",
      "  from .autonotebook import tqdm as notebook_tqdm\n"
     ]
    }
   ],
   "source": [
    "\n",
    "import os\n",
    "import json\n",
    "from datasets import Dataset, load_from_disk"
   ]
  },
  {
   "cell_type": "code",
   "execution_count": 2,
   "id": "4ff73dda",
   "metadata": {},
   "outputs": [],
   "source": [
    "def save_dataset_with_metadata(dataset: Dataset, path: str, emotion_labels: list, label_type: str = \"multi-label\"):\n",
    "    dataset.save_to_disk(path)\n",
    "    info_path = os.path.join(path, \"dataset_info.json\")\n",
    "\n",
    "    with open(info_path, \"r\") as f:\n",
    "        dataset_info = json.load(f)\n",
    "\n",
    "    dataset_info[\"label_type\"] = label_type\n",
    "    dataset_info[\"emotion_labels\"] = emotion_labels\n",
    "    dataset_info[\"num_labels\"] = len(emotion_labels)\n",
    "\n",
    "    with open(info_path, \"w\") as f:\n",
    "        json.dump(dataset_info, f, indent=2)\n",
    "\n",
    "    print(f\"dataset saved to {path} with metadata added.\")\n"
   ]
  },
  {
   "cell_type": "markdown",
   "id": "0c87cd76",
   "metadata": {},
   "source": [
    "# CancerEMO\n",
    "### Multi label-classification, where each class needs to be predicted seperately from the others (multiple classes can be true)"
   ]
  },
  {
   "cell_type": "code",
   "execution_count": 3,
   "id": "ba4df04c",
   "metadata": {},
   "outputs": [
    {
     "name": "stdout",
     "output_type": "stream",
     "text": [
      "Dataset({\n",
      "    features: ['text', 'anger', 'anticipation', 'disgust', 'fear', 'joy', 'sadness', 'surprise', 'trust'],\n",
      "    num_rows: 11642\n",
      "})\n",
      "{'text': 'And it will no doubt make me happy in the morning as well!', 'anger': False, 'anticipation': None, 'disgust': None, 'fear': None, 'joy': None, 'sadness': None, 'surprise': None, 'trust': None}\n",
      "{'text': 'doctors were surprised and pleased with my range of motion at my first post-surgical follow-up.', 'anger': False, 'anticipation': None, 'disgust': None, 'fear': None, 'joy': True, 'sadness': None, 'surprise': None, 'trust': None, 'labels': [0.0, 0.0, 0.0, 0.0, 1.0, 0.0, 0.0, 0.0]}\n"
     ]
    }
   ],
   "source": [
    "dataset = load_from_disk(\"emotion_datasets/src/data/CancerEmo\")\n",
    "print(dataset)\n",
    "print(dataset[0])\n",
    "\n",
    "emotion_labels = [label for label in dataset.features.keys() if label != \"text\"]\n",
    "\n",
    "def convert_labels(example):\n",
    "    example[\"labels\"] = [float(bool(example[label])) for label in emotion_labels]\n",
    "    return example\n",
    "\n",
    "dataset = dataset.map(convert_labels)\n",
    "print(dataset[5])"
   ]
  },
  {
   "cell_type": "code",
   "execution_count": 4,
   "id": "20f8d9cb",
   "metadata": {},
   "outputs": [
    {
     "name": "stderr",
     "output_type": "stream",
     "text": [
      "Saving the dataset (1/1 shards): 100%|██████████| 11642/11642 [00:00<00:00, 413180.52 examples/s]"
     ]
    },
    {
     "name": "stdout",
     "output_type": "stream",
     "text": [
      "dataset saved to emotion_datasets/src/Preprocessed/CancerEmo with metadata added.\n"
     ]
    },
    {
     "name": "stderr",
     "output_type": "stream",
     "text": [
      "\n"
     ]
    }
   ],
   "source": [
    "save_dataset_with_metadata(dataset, \"emotion_datasets/src/Preprocessed/CancerEmo\", emotion_labels, \"multi-label\")"
   ]
  },
  {
   "cell_type": "markdown",
   "id": "3f84e357",
   "metadata": {},
   "source": [
    "# EmoBank\n",
    "### Heads up, this is regression (multivariate), so u cant use the classification head of bert"
   ]
  },
  {
   "cell_type": "code",
   "execution_count": 5,
   "id": "0f5c722d",
   "metadata": {},
   "outputs": [
    {
     "name": "stdout",
     "output_type": "stream",
     "text": [
      "Dataset({\n",
      "    features: ['id', 'document', 'category', 'subcategory', 'split', 'V', 'A', 'D', 'text'],\n",
      "    num_rows: 10062\n",
      "})\n",
      "{'id': '110CYL068_1079_1110', 'document': '110CYL068', 'category': 'letters', 'subcategory': 'philanthropic-fundraising', 'split': 'test', 'V': 2.799999952316284, 'A': 3.0999999046325684, 'D': 2.799999952316284, 'text': \"If I wasn't working here.\"}\n",
      "{'id': '110CYL068_163_275', 'document': '110CYL068', 'category': 'letters', 'subcategory': 'philanthropic-fundraising', 'V': 3.25, 'A': 2.880000114440918, 'D': 3.0, 'text': \"Here's another story of success from what might seem like an unlikely source: Goodwill's controller, Juli.\", 'labels': [3.25, 2.880000114440918, 3.0]}\n"
     ]
    }
   ],
   "source": [
    "dataset = load_from_disk(\"emotion_datasets/src/data/EmoBank\")\n",
    "print(dataset)\n",
    "print(dataset[0])\n",
    "dataset = dataset.remove_columns(\"split\")\n",
    "# Set the labels column (which represents V A D)\n",
    "dataset = dataset.map(lambda x: {\"labels\": [x[\"V\"], x[\"A\"], x[\"D\"]]})\n",
    "print(dataset[5])"
   ]
  },
  {
   "cell_type": "code",
   "execution_count": 6,
   "id": "6fe353aa",
   "metadata": {},
   "outputs": [
    {
     "name": "stderr",
     "output_type": "stream",
     "text": [
      "Saving the dataset (1/1 shards): 100%|██████████| 10062/10062 [00:00<00:00, 503292.47 examples/s]"
     ]
    },
    {
     "name": "stdout",
     "output_type": "stream",
     "text": [
      "dataset saved to emotion_datasets/src/Preprocessed/EmoBank with metadata added.\n"
     ]
    },
    {
     "name": "stderr",
     "output_type": "stream",
     "text": [
      "\n"
     ]
    }
   ],
   "source": [
    "save_dataset_with_metadata(dataset, \"emotion_datasets/src/Preprocessed/EmoBank\", [\"V\", \"A\", \"D\"], \"multi-variate\")"
   ]
  },
  {
   "cell_type": "markdown",
   "id": "d5f3a4e6",
   "metadata": {},
   "source": [
    "# EmotionStimulus\n",
    "### Multi class-classification"
   ]
  },
  {
   "cell_type": "code",
   "execution_count": 7,
   "id": "73357530",
   "metadata": {},
   "outputs": [
    {
     "name": "stdout",
     "output_type": "stream",
     "text": [
      "Dataset({\n",
      "    features: ['text', 'anger', 'disgust', 'fear', 'happy', 'sad', 'shame', 'surprise'],\n",
      "    num_rows: 2407\n",
      "})\n",
      "{'text': 'Lennox has always truly wanted to fight for the world title and was happy taking the tough route.', 'anger': False, 'disgust': False, 'fear': False, 'happy': True, 'sad': False, 'shame': False, 'surprise': False}\n",
      "{'text': 'The bewilderment of the child Nizan can not be overstated.', 'anger': False, 'disgust': False, 'fear': False, 'happy': False, 'sad': False, 'shame': False, 'surprise': True, 'labels': 6}\n"
     ]
    }
   ],
   "source": [
    "dataset = load_from_disk(\"emotion_datasets/src/data/EmotionStimulus\")\n",
    "print(dataset)\n",
    "print(dataset[0])\n",
    "\n",
    "emotion_labels = [label for label in dataset.features.keys() if label != \"text\"]\n",
    "\n",
    "def convert_labels(example):\n",
    "    bool_labels = [bool(example[label]) for label in emotion_labels]\n",
    "    if sum(bool_labels) == 0: # When no emotion is present (some datasets have this)\n",
    "        return {\"labels\": len(emotion_labels)}\n",
    "    else:\n",
    "        return {\"labels\": bool_labels.index(True)}\n",
    "\n",
    "dataset = dataset.map(convert_labels)\n",
    "print(dataset[2300])"
   ]
  },
  {
   "cell_type": "code",
   "execution_count": 8,
   "id": "5cb5c8d3",
   "metadata": {},
   "outputs": [
    {
     "name": "stderr",
     "output_type": "stream",
     "text": [
      "Saving the dataset (1/1 shards): 100%|██████████| 2407/2407 [00:00<00:00, 187589.46 examples/s]"
     ]
    },
    {
     "name": "stdout",
     "output_type": "stream",
     "text": [
      "dataset saved to emotion_datasets/src/Preprocessed/EmotionStimulus with metadata added.\n"
     ]
    },
    {
     "name": "stderr",
     "output_type": "stream",
     "text": [
      "\n"
     ]
    }
   ],
   "source": [
    "save_dataset_with_metadata(dataset, \"emotion_datasets/src/Preprocessed/EmotionStimulus\", emotion_labels, \"multi-class\")"
   ]
  },
  {
   "cell_type": "markdown",
   "id": "b5c70a48",
   "metadata": {},
   "source": [
    "# GoodNewsEveryone\n",
    "### Multi class classification"
   ]
  },
  {
   "cell_type": "code",
   "execution_count": 9,
   "id": "838067a4",
   "metadata": {},
   "outputs": [
    {
     "name": "stdout",
     "output_type": "stream",
     "text": [
      "Dataset({\n",
      "    features: ['id', 'source', 'text', 'intensity', 'anger', 'annoyance', 'disgust', 'fear', 'guilt', 'joy', 'love_including_like', 'negative_anticipation_including_pessimism', 'negative_surprise', 'positive_anticipation_including_optimism', 'positive_surprise', 'pride', 'sadness', 'shame', 'trust'],\n",
      "    num_rows: 5000\n",
      "})\n",
      "{'id': '86693d59', 'source': 'dailymail', 'text': \"DIY penis enlargements are a 'nationwide problem' in Papua New Guinea\", 'intensity': 'medium', 'anger': False, 'annoyance': False, 'disgust': False, 'fear': False, 'guilt': False, 'joy': False, 'love_including_like': False, 'negative_anticipation_including_pessimism': False, 'negative_surprise': True, 'positive_anticipation_including_optimism': False, 'positive_surprise': False, 'pride': False, 'sadness': False, 'shame': False, 'trust': False}\n",
      "['medium', 'high', None, 'weak', 'low']\n",
      "Dataset({\n",
      "    features: ['id', 'source', 'text', 'intensity', 'anger', 'annoyance', 'disgust', 'fear', 'guilt', 'joy', 'love_including_like', 'negative_anticipation_including_pessimism', 'negative_surprise', 'positive_anticipation_including_optimism', 'positive_surprise', 'pride', 'sadness', 'shame', 'trust'],\n",
      "    num_rows: 4990\n",
      "})\n",
      "['anger', 'annoyance', 'disgust', 'fear', 'guilt', 'joy', 'love_including_like', 'negative_anticipation_including_pessimism', 'negative_surprise', 'positive_anticipation_including_optimism', 'positive_surprise', 'pride', 'sadness', 'shame', 'trust']\n",
      "{'id': 'fdf43ad5', 'source': 'dailykos', 'text': 'Black Voters Matter uses Southern tactics to register black Michigan voters during debates', 'anger': False, 'annoyance': False, 'disgust': False, 'fear': False, 'guilt': False, 'joy': False, 'love_including_like': False, 'negative_anticipation_including_pessimism': False, 'negative_surprise': True, 'positive_anticipation_including_optimism': False, 'positive_surprise': False, 'pride': False, 'sadness': False, 'shame': False, 'trust': False, 'labels': 8}\n"
     ]
    }
   ],
   "source": [
    "dataset = load_from_disk(\"emotion_datasets/src/data/GoodNewsEveryone\")\n",
    "print(dataset)\n",
    "print(dataset[0])\n",
    "print(dataset.unique(\"intensity\"))\n",
    "filtered_dataset = dataset.filter(lambda example: example[\"intensity\"] == 'medium')\n",
    "print(filtered_dataset) # This shows only 10 rows have a different intensity, making it so we can just drop the intensity column\n",
    "dataset = dataset.remove_columns(\"intensity\")\n",
    "emotion_labels = [emotion for emotion, feature in dataset.features.items() if str(feature.dtype) == \"bool\"]\n",
    "print(emotion_labels)\n",
    "\n",
    "def convert_labels(example):\n",
    "    bool_labels = [bool(example[label]) for label in emotion_labels]\n",
    "    if sum(bool_labels) == 0: # When no emotion is present (some datasets have this)\n",
    "        return {\"labels\": len(emotion_labels)}\n",
    "    else:\n",
    "        return {\"labels\": bool_labels.index(True)}\n",
    "\n",
    "dataset = dataset.map(convert_labels)\n",
    "print(dataset[10])\n"
   ]
  },
  {
   "cell_type": "code",
   "execution_count": 10,
   "id": "bc791674",
   "metadata": {},
   "outputs": [
    {
     "name": "stderr",
     "output_type": "stream",
     "text": [
      "Saving the dataset (1/1 shards): 100%|██████████| 5000/5000 [00:00<00:00, 183947.79 examples/s]"
     ]
    },
    {
     "name": "stdout",
     "output_type": "stream",
     "text": [
      "dataset saved to emotion_datasets/src/Preprocessed/GoodNewsEveryone with metadata added.\n"
     ]
    },
    {
     "name": "stderr",
     "output_type": "stream",
     "text": [
      "\n"
     ]
    }
   ],
   "source": [
    "save_dataset_with_metadata(dataset, \"emotion_datasets/src/Preprocessed/GoodNewsEveryone\", emotion_labels, \"multi-class\")"
   ]
  },
  {
   "cell_type": "markdown",
   "id": "f2eecdd2",
   "metadata": {},
   "source": [
    "# Semeval2018Intensity\n",
    "\n",
    "### Multivariate regression"
   ]
  },
  {
   "cell_type": "code",
   "execution_count": 11,
   "id": "1f947bad",
   "metadata": {},
   "outputs": [
    {
     "name": "stdout",
     "output_type": "stream",
     "text": [
      "Dataset({\n",
      "    features: ['id', 'text', 'valence', 'anger', 'fear', 'joy', 'sadness'],\n",
      "    num_rows: 11288\n",
      "})\n",
      "{'id': '2018-En-02381', 'text': \"Did men call themselves shy and mean it? So I reassure him that I'm just making sure he's a good investment and alla that 🙄\", 'valence': 0.593, 'anger': 0.379, 'fear': 0.365, 'joy': None, 'sadness': 0.35}\n",
      "Dataset({\n",
      "    features: ['id', 'text', 'valence', 'anger', 'fear', 'joy', 'sadness'],\n",
      "    num_rows: 11090\n",
      "})\n",
      "{'id': '2018-En-02381', 'text': \"Did men call themselves shy and mean it? So I reassure him that I'm just making sure he's a good investment and alla that 🙄\", 'valence': 0.593, 'anger': 0.379, 'fear': 0.365, 'joy': 0.0, 'sadness': 0.35}\n",
      "['valence', 'anger', 'fear', 'joy', 'sadness']\n",
      "Dataset({\n",
      "    features: ['id', 'text', 'valence', 'anger', 'fear', 'joy', 'sadness', 'labels'],\n",
      "    num_rows: 11090\n",
      "})\n",
      "{'id': '2018-En-02381', 'text': \"Did men call themselves shy and mean it? So I reassure him that I'm just making sure he's a good investment and alla that 🙄\", 'valence': 0.593, 'anger': 0.379, 'fear': 0.365, 'joy': 0.0, 'sadness': 0.35, 'labels': [0.593, 0.379, 0.365, 0.0, 0.35]}\n"
     ]
    }
   ],
   "source": [
    "dataset = load_from_disk(\"emotion_datasets/src/data/Semeval2018Intensity\")\n",
    "print(dataset)\n",
    "print(dataset[0])\n",
    "dataset = dataset.filter(lambda example: example[\"id\"] is not None and example[\"text\"] is not None)\n",
    "print(dataset)\n",
    "\n",
    "def replace_none(example):\n",
    "    return {k: (0.0 if v is None else v) for k, v in example.items()}\n",
    "\n",
    "dataset = dataset.map(replace_none)\n",
    "print(dataset[0])\n",
    "\n",
    "emotion_labels = [\n",
    "    col for col, feature in dataset.features.items()\n",
    "    if hasattr(feature, \"dtype\") and \"float\" in str(feature.dtype)\n",
    "]\n",
    "print(emotion_labels)\n",
    "\n",
    "def make_labels(example):\n",
    "    return {\"labels\": [example[emo] for emo in emotion_labels]}\n",
    "\n",
    "dataset = dataset.map(make_labels)\n",
    "print(dataset)\n",
    "print(dataset[0])"
   ]
  },
  {
   "cell_type": "code",
   "execution_count": 12,
   "id": "a68165e8",
   "metadata": {},
   "outputs": [
    {
     "name": "stderr",
     "output_type": "stream",
     "text": [
      "Saving the dataset (1/1 shards): 100%|██████████| 11090/11090 [00:00<00:00, 553168.48 examples/s]"
     ]
    },
    {
     "name": "stdout",
     "output_type": "stream",
     "text": [
      "dataset saved to emotion_datasets/src/Preprocessed/Semeval2018Intensity with metadata added.\n"
     ]
    },
    {
     "name": "stderr",
     "output_type": "stream",
     "text": [
      "\n"
     ]
    }
   ],
   "source": [
    "save_dataset_with_metadata(dataset, \"emotion_datasets/src/Preprocessed/Semeval2018Intensity\", emotion_labels, \"multi-variate\")"
   ]
  },
  {
   "cell_type": "markdown",
   "id": "96c1c704",
   "metadata": {},
   "source": [
    "# SentimentalLIAR\n",
    "\n",
    "### Multivariate regression\n",
    "\n",
    "### this one has a sentiment score, sentiment, speaker and context (bit iffy) but i chose to just not care about those. since we want to generalise here, and training based on all those features is just gonna be a pain. so we use statement which i renamed to text"
   ]
  },
  {
   "cell_type": "code",
   "execution_count": 13,
   "id": "c6db30e6",
   "metadata": {},
   "outputs": [
    {
     "name": "stdout",
     "output_type": "stream",
     "text": [
      "Dataset({\n",
      "    features: ['ID', 'statement', 'subject', 'speaker', 'context', 'sentiment', 'sentiment_score', 'anger', 'fear', 'joy', 'disgust', 'sad'],\n",
      "    num_rows: 12786\n",
      "})\n",
      "{'ID': '11972.json', 'statement': 'Building a wall on the U.S.-Mexico border will take literally years.', 'subject': 'immigration', 'speaker': 'rick-perry', 'context': 'Radio interview', 'sentiment': 'NEGATIVE', 'sentiment_score': -0.20000000298023224, 'anger': 0.067151, 'fear': 0.155968, 'joy': 0.368879, 'disgust': 0.198711, 'sad': 0.311238}\n",
      "Dataset({\n",
      "    features: ['ID', 'text', 'anger', 'fear', 'joy', 'disgust', 'sad'],\n",
      "    num_rows: 12786\n",
      "})\n",
      "['anger', 'fear', 'joy', 'disgust', 'sad']\n",
      "Dataset({\n",
      "    features: ['ID', 'text', 'anger', 'fear', 'joy', 'disgust', 'sad', 'labels'],\n",
      "    num_rows: 12786\n",
      "})\n",
      "{'ID': '11972.json', 'text': 'Building a wall on the U.S.-Mexico border will take literally years.', 'anger': 0.067151, 'fear': 0.155968, 'joy': 0.368879, 'disgust': 0.198711, 'sad': 0.311238, 'labels': [0.067151, 0.155968, 0.368879, 0.198711, 0.311238]}\n"
     ]
    }
   ],
   "source": [
    "dataset = load_from_disk(\"emotion_datasets/src/data/SentimentalLIAR\")\n",
    "print(dataset)\n",
    "print(dataset[0])\n",
    "dataset = dataset.remove_columns([\"subject\", \"speaker\", \"context\", \"sentiment\", \"sentiment_score\"])\n",
    "dataset = dataset.rename_column(\"statement\", \"text\")\n",
    "print(dataset)\n",
    "emotion_labels = [\n",
    "    col for col, feature in dataset.features.items()\n",
    "    if hasattr(feature, \"dtype\") and \"float\" in str(feature.dtype)\n",
    "]\n",
    "print(emotion_labels)\n",
    "\n",
    "def make_labels(example):\n",
    "    return {\"labels\": [example[emo] for emo in emotion_labels]}\n",
    "\n",
    "dataset = dataset.map(make_labels)\n",
    "print(dataset)\n",
    "print(dataset[0])"
   ]
  },
  {
   "cell_type": "code",
   "execution_count": 14,
   "id": "54238945",
   "metadata": {},
   "outputs": [
    {
     "name": "stderr",
     "output_type": "stream",
     "text": [
      "Saving the dataset (1/1 shards): 100%|██████████| 12786/12786 [00:00<00:00, 632395.12 examples/s]"
     ]
    },
    {
     "name": "stdout",
     "output_type": "stream",
     "text": [
      "dataset saved to emotion_datasets/src/Preprocessed/SentimentalLIAR with metadata added.\n"
     ]
    },
    {
     "name": "stderr",
     "output_type": "stream",
     "text": [
      "\n"
     ]
    }
   ],
   "source": [
    "save_dataset_with_metadata(dataset, \"emotion_datasets/src/Preprocessed/SentimentalLIAR\", emotion_labels, \"multi-variate\")"
   ]
  },
  {
   "cell_type": "markdown",
   "id": "794408df",
   "metadata": {},
   "source": [
    "# TalesEmotions\n",
    "\n",
    "### Multi-class classification"
   ]
  },
  {
   "cell_type": "code",
   "execution_count": 15,
   "id": "c0e47401",
   "metadata": {},
   "outputs": [
    {
     "name": "stdout",
     "output_type": "stream",
     "text": [
      "Dataset({\n",
      "    features: ['author', 'story', 'sent_id', 'text', 'angry', 'disgusted', 'fearful', 'happy', 'neutral', 'positively surprised', 'negatively surprised'],\n",
      "    num_rows: 15302\n",
      "})\n",
      "{'author': 'Potter', 'story': 'the_tale_of_mr_jeremy_fisher', 'sent_id': '0', 'text': 'Once upon a time there was a frog called Mr. Jeremy Fisher; he lived in a little damp house amongst the buttercups at the edge of a pond.', 'angry': 0, 'disgusted': 0, 'fearful': 0, 'happy': 0, 'neutral': 2, 'positively surprised': 0, 'negatively surprised': 0}\n",
      "{'author': 'Potter', 'story': 'the_tale_of_mr_jeremy_fisher', 'sent_id': '0', 'text': 'Once upon a time there was a frog called Mr. Jeremy Fisher; he lived in a little damp house amongst the buttercups at the edge of a pond.', 'angry': 0, 'disgusted': 0, 'fearful': 0, 'happy': 0, 'neutral': 1, 'positively surprised': 0, 'negatively surprised': 0}\n",
      "['angry', 'disgusted', 'fearful', 'happy', 'neutral', 'positively surprised', 'negatively surprised']\n",
      "Dataset({\n",
      "    features: ['author', 'story', 'sent_id', 'text', 'angry', 'disgusted', 'fearful', 'happy', 'neutral', 'positively surprised', 'negatively surprised', 'labels'],\n",
      "    num_rows: 15302\n",
      "})\n",
      "{'author': 'Potter', 'story': 'the_tale_of_mr_jeremy_fisher', 'sent_id': '0', 'text': 'Once upon a time there was a frog called Mr. Jeremy Fisher; he lived in a little damp house amongst the buttercups at the edge of a pond.', 'angry': 0, 'disgusted': 0, 'fearful': 0, 'happy': 0, 'neutral': 1, 'positively surprised': 0, 'negatively surprised': 0, 'labels': 4}\n"
     ]
    }
   ],
   "source": [
    "dataset = load_from_disk(\"emotion_datasets/src/data/TalesEmotions\")\n",
    "print(dataset)\n",
    "print(dataset[0])\n",
    "\n",
    "\n",
    "def replace_twos(example):\n",
    "    return {k: (1 if v == 2 else v) for k, v in example.items()}\n",
    "dataset = dataset.map(replace_twos)\n",
    "print(dataset[0])\n",
    "\n",
    "emotion_labels = [\n",
    "    col for col, feature in dataset.features.items()\n",
    "    if hasattr(feature, \"dtype\") and \"int\" in str(feature.dtype)\n",
    "]\n",
    "print(emotion_labels)\n",
    "\n",
    "def convert_labels(example):\n",
    "    bool_labels = [bool(example[label]) for label in emotion_labels]\n",
    "    if sum(bool_labels) == 0: # When no emotion is present (some datasets have this)\n",
    "        return {\"labels\": len(emotion_labels)}\n",
    "    else:\n",
    "        return {\"labels\": bool_labels.index(True)}\n",
    "\n",
    "dataset = dataset.map(convert_labels)\n",
    "\n",
    "print(dataset)\n",
    "print(dataset[0])"
   ]
  },
  {
   "cell_type": "code",
   "execution_count": 16,
   "id": "1c5a8dd4",
   "metadata": {},
   "outputs": [
    {
     "name": "stderr",
     "output_type": "stream",
     "text": [
      "Saving the dataset (1/1 shards): 100%|██████████| 15302/15302 [00:00<00:00, 446304.33 examples/s]"
     ]
    },
    {
     "name": "stdout",
     "output_type": "stream",
     "text": [
      "dataset saved to emotion_datasets/src/Preprocessed/TalesEmotions with metadata added.\n"
     ]
    },
    {
     "name": "stderr",
     "output_type": "stream",
     "text": [
      "\n"
     ]
    }
   ],
   "source": [
    "save_dataset_with_metadata(dataset, \"emotion_datasets/src/Preprocessed/TalesEmotions\", emotion_labels, \"multi-class\")"
   ]
  },
  {
   "cell_type": "markdown",
   "id": "090d69b6",
   "metadata": {},
   "source": [
    "# UsVsThem\n",
    "\n",
    "### Multi-label classification (classes need to be predicted as 0-1 independently)"
   ]
  },
  {
   "cell_type": "code",
   "execution_count": 17,
   "id": "d6e4efb1",
   "metadata": {},
   "outputs": [
    {
     "name": "stdout",
     "output_type": "stream",
     "text": [
      "Dataset({\n",
      "    features: ['bias', 'group', 'usVSthem_scale', 'text', 'anger', 'contempt', 'disgust', 'fear', 'gratitude', 'guilt', 'happiness', 'hope', 'pride', 'relief', 'sadness', 'sympathy', 'neutral'],\n",
      "    num_rows: 6864\n",
      "})\n",
      "{'bias': 'left', 'group': 'Conservatives', 'usVSthem_scale': 0.8030909712825848, 'text': \"Well yeah but then so does the Republican congress' complete acquiescence and obsequious covering for Trump.  We shouldn't be surprised. Mainstream GOP members in the US are entirely willing to align themselves with outright fascists if they think it will help them politically.\", 'anger': False, 'contempt': True, 'disgust': True, 'fear': False, 'gratitude': False, 'guilt': False, 'happiness': False, 'hope': False, 'pride': False, 'relief': False, 'sadness': False, 'sympathy': False, 'neutral': False}\n",
      "['anger', 'contempt', 'disgust', 'fear', 'gratitude', 'guilt', 'happiness', 'hope', 'pride', 'relief', 'sadness', 'sympathy', 'neutral']\n",
      "{'bias': 'left', 'group': 'Conservatives', 'usVSthem_scale': 0.8030909712825848, 'text': \"Well yeah but then so does the Republican congress' complete acquiescence and obsequious covering for Trump.  We shouldn't be surprised. Mainstream GOP members in the US are entirely willing to align themselves with outright fascists if they think it will help them politically.\", 'anger': False, 'contempt': True, 'disgust': True, 'fear': False, 'gratitude': False, 'guilt': False, 'happiness': False, 'hope': False, 'pride': False, 'relief': False, 'sadness': False, 'sympathy': False, 'neutral': False, 'labels': [0.0, 1.0, 1.0, 0.0, 0.0, 0.0, 0.0, 0.0, 0.0, 0.0, 0.0, 0.0, 0.0]}\n"
     ]
    }
   ],
   "source": [
    "dataset = load_from_disk(\"emotion_datasets/src/data/UsVsThem\")\n",
    "print(dataset)\n",
    "print(dataset[0])\n",
    "\n",
    "emotion_labels = [emotion for emotion, feature in dataset.features.items() if str(feature.dtype) == \"bool\"]\n",
    "print(emotion_labels)\n",
    "\n",
    "def convert_labels(example):\n",
    "    example[\"labels\"] = [float(bool(example[label])) for label in emotion_labels]\n",
    "    return example\n",
    "\n",
    "dataset = dataset.map(convert_labels)\n",
    "print(dataset[0])"
   ]
  },
  {
   "cell_type": "code",
   "execution_count": 18,
   "id": "559cbb47",
   "metadata": {},
   "outputs": [
    {
     "name": "stderr",
     "output_type": "stream",
     "text": [
      "Saving the dataset (1/1 shards): 100%|██████████| 6864/6864 [00:00<00:00, 182660.71 examples/s]"
     ]
    },
    {
     "name": "stdout",
     "output_type": "stream",
     "text": [
      "dataset saved to emotion_datasets/src/Preprocessed/UsVsThem with metadata added.\n"
     ]
    },
    {
     "name": "stderr",
     "output_type": "stream",
     "text": [
      "\n"
     ]
    }
   ],
   "source": [
    "save_dataset_with_metadata(dataset, \"emotion_datasets/src/Preprocessed/UsVsThem\", emotion_labels, \"multi-label\")"
   ]
  },
  {
   "cell_type": "markdown",
   "id": "172d411a",
   "metadata": {},
   "source": [
    "# WASSA22\n",
    "# Multi-class classification (only 1 emotion true)\n",
    "### I dropped empathy and distress since they are float values (could be used for a greates task like classificaatio nwith the use of regression, but we are not doing that)"
   ]
  },
  {
   "cell_type": "code",
   "execution_count": 19,
   "id": "35d1643e",
   "metadata": {},
   "outputs": [
    {
     "name": "stdout",
     "output_type": "stream",
     "text": [
      "Dataset({\n",
      "    features: ['id', 'article_id', 'text', 'empathy', 'distress', 'anger', 'disgust', 'fear', 'joy', 'neutral', 'sadness', 'surprise'],\n",
      "    num_rows: 2130\n",
      "})\n",
      "{'id': 'R_1hGrPtWM4SumG0U_3', 'article_id': '206', 'text': \"no matter what your heritage, you should be able to serve your country.  her thai heritage shouldn't preclude her and shouldn't have been an issue in this debate.  tammy duckworth and her family should be congratulated on the services they have provided to this country.  any type of racism should not be allowed in a debate\", 'empathy': 5.333000183105469, 'distress': 3.5, 'anger': False, 'disgust': False, 'fear': False, 'joy': False, 'neutral': True, 'sadness': False, 'surprise': False}\n",
      "Dataset({\n",
      "    features: ['id', 'article_id', 'text', 'anger', 'disgust', 'fear', 'joy', 'neutral', 'sadness', 'surprise'],\n",
      "    num_rows: 2130\n",
      "})\n",
      "['anger', 'disgust', 'fear', 'joy', 'neutral', 'sadness', 'surprise']\n",
      "Dataset({\n",
      "    features: ['id', 'article_id', 'text', 'anger', 'disgust', 'fear', 'joy', 'neutral', 'sadness', 'surprise', 'labels'],\n",
      "    num_rows: 2130\n",
      "})\n",
      "{'id': 'R_1hGrPtWM4SumG0U_3', 'article_id': '206', 'text': \"no matter what your heritage, you should be able to serve your country.  her thai heritage shouldn't preclude her and shouldn't have been an issue in this debate.  tammy duckworth and her family should be congratulated on the services they have provided to this country.  any type of racism should not be allowed in a debate\", 'anger': False, 'disgust': False, 'fear': False, 'joy': False, 'neutral': True, 'sadness': False, 'surprise': False, 'labels': 4}\n"
     ]
    }
   ],
   "source": [
    "dataset = load_from_disk(\"emotion_datasets/src/data/WASSA22\")\n",
    "print(dataset)\n",
    "print(dataset[0])\n",
    "dataset = dataset.remove_columns([\"empathy\", \"distress\"])\n",
    "print(dataset)\n",
    "\n",
    "emotion_labels = [emotion for emotion, feature in dataset.features.items() if str(feature.dtype) == \"bool\"]\n",
    "print(emotion_labels)\n",
    "\n",
    "\n",
    "def convert_labels(example):\n",
    "    bool_labels = [bool(example[label]) for label in emotion_labels]\n",
    "    if sum(bool_labels) == 0: # When no emotion is present (some datasets have this)\n",
    "        return {\"labels\": len(emotion_labels)}\n",
    "    else:\n",
    "        return {\"labels\": bool_labels.index(True)}\n",
    "\n",
    "dataset = dataset.map(convert_labels)\n",
    "\n",
    "print(dataset)\n",
    "print(dataset[0])\n",
    "\n"
   ]
  },
  {
   "cell_type": "code",
   "execution_count": 20,
   "id": "2694c5d4",
   "metadata": {},
   "outputs": [
    {
     "name": "stderr",
     "output_type": "stream",
     "text": [
      "Saving the dataset (1/1 shards): 100%|██████████| 2130/2130 [00:00<00:00, 107924.32 examples/s]"
     ]
    },
    {
     "name": "stdout",
     "output_type": "stream",
     "text": [
      "dataset saved to emotion_datasets/src/Preprocessed/WASSA22 with metadata added.\n"
     ]
    },
    {
     "name": "stderr",
     "output_type": "stream",
     "text": [
      "\n"
     ]
    }
   ],
   "source": [
    "save_dataset_with_metadata(dataset, \"emotion_datasets/src/Preprocessed/WASSA22\", emotion_labels, \"multi-class\")"
   ]
  },
  {
   "cell_type": "markdown",
   "id": "e7d61bd2",
   "metadata": {},
   "source": [
    "# XED\n",
    "### Multi-label classification (classes need to be predicted as 0-1 independently)"
   ]
  },
  {
   "cell_type": "code",
   "execution_count": 21,
   "id": "9501ebf1",
   "metadata": {},
   "outputs": [
    {
     "name": "stdout",
     "output_type": "stream",
     "text": [
      "Dataset({\n",
      "    features: ['text', 'anger', 'anticipation', 'disgust', 'fear', 'joy', 'sadness', 'surprise', 'trust', 'neutral'],\n",
      "    num_rows: 27195\n",
      "})\n",
      "{'text': 'A little dicey doing a background on an FBI agent .', 'anger': True, 'anticipation': False, 'disgust': False, 'fear': False, 'joy': False, 'sadness': False, 'surprise': False, 'trust': False, 'neutral': False}\n",
      "['anger', 'anticipation', 'disgust', 'fear', 'joy', 'sadness', 'surprise', 'trust', 'neutral']\n",
      "{'text': ', ...', 'anger': True, 'anticipation': False, 'disgust': False, 'fear': False, 'joy': False, 'sadness': False, 'surprise': False, 'trust': False, 'neutral': False, 'labels': [1.0, 0.0, 0.0, 0.0, 0.0, 0.0, 0.0, 0.0, 0.0]}\n"
     ]
    }
   ],
   "source": [
    "dataset = load_from_disk(\"emotion_datasets/src/data/XED\")\n",
    "print(dataset)\n",
    "print(dataset[10])\n",
    "\n",
    "emotion_labels = [emotion for emotion, feature in dataset.features.items() if str(feature.dtype) == \"bool\"]\n",
    "print(emotion_labels)\n",
    "\n",
    "def convert_labels(example):\n",
    "    example[\"labels\"] = [float(bool(example[label])) for label in emotion_labels]\n",
    "    return example\n",
    "\n",
    "dataset = dataset.map(convert_labels)\n",
    "print(dataset[0])"
   ]
  },
  {
   "cell_type": "code",
   "execution_count": 22,
   "id": "21881420",
   "metadata": {},
   "outputs": [
    {
     "name": "stderr",
     "output_type": "stream",
     "text": [
      "Saving the dataset (1/1 shards): 100%|██████████| 27195/27195 [00:00<00:00, 526840.35 examples/s]"
     ]
    },
    {
     "name": "stdout",
     "output_type": "stream",
     "text": [
      "dataset saved to emotion_datasets/src/Preprocessed/XED with metadata added.\n"
     ]
    },
    {
     "name": "stderr",
     "output_type": "stream",
     "text": [
      "\n"
     ]
    }
   ],
   "source": [
    "save_dataset_with_metadata(dataset, \"emotion_datasets/src/Preprocessed/XED\", emotion_labels, \"multi-label\")"
   ]
  }
 ],
 "metadata": {
  "kernelspec": {
   "display_name": "ACTS",
   "language": "python",
   "name": "python3"
  },
  "language_info": {
   "codemirror_mode": {
    "name": "ipython",
    "version": 3
   },
   "file_extension": ".py",
   "mimetype": "text/x-python",
   "name": "python",
   "nbconvert_exporter": "python",
   "pygments_lexer": "ipython3",
   "version": "3.13.3"
  }
 },
 "nbformat": 4,
 "nbformat_minor": 5
}
